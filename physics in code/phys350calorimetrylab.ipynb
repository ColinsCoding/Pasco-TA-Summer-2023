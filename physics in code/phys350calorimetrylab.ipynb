{
 "cells": [
  {
   "cell_type": "code",
   "execution_count": null,
   "metadata": {},
   "outputs": [],
   "source": [
    "m_hot = 26.6 # g \n",
    "Ti_hot = 56.3 # C\n",
    "\n",
    "m_cold = 28.4 # g\n",
    "Ti_cold = 26.0 # C\n",
    "\n",
    "C_h20 = 4.18 # J/gC\n",
    "\n",
    "Tf_v1 = (m_hot * Ti_hot + m_cold * Ti_cold) / (m_hot + m_cold)\n",
    "print(Tf_v1)\n",
    "\n",
    "Tf_v2 = (m_hot*C_h20*Ti_hot + m_cold*C_h20*Ti_cold) / (m_hot*C_h20 + m_cold*C_h20)\n",
    "print(Tf_v2)"
   ]
  }
 ],
 "metadata": {
  "language_info": {
   "name": "python"
  },
  "orig_nbformat": 4
 },
 "nbformat": 4,
 "nbformat_minor": 2
}
